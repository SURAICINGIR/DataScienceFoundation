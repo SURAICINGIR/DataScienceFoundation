{
 "cells": [
  {
   "cell_type": "code",
   "execution_count": 2,
   "metadata": {
    "collapsed": true
   },
   "outputs": [],
   "source": [
    "import sqlite3\n",
    "from sqlite3 import Error"
   ]
  },
  {
   "cell_type": "code",
   "execution_count": 6,
   "metadata": {},
   "outputs": [
    {
     "name": "stdout",
     "output_type": "stream",
     "text": [
      "1. Query N passengers by survival:\n",
      "(2, 1, 1, u'Cumings, Mrs. John Bradley (Florence Briggs Thayer)', u'female', 38, 1, 0, u'PC 17599', 71.2833, u'C85', u'C')\n",
      "(3, 1, 3, u'Heikkinen, Miss. Laina', u'female', 26, 0, 0, u'STON/O2. 3101282', 7.925, u'', u'S')\n",
      "(4, 1, 1, u'Futrelle, Mrs. Jacques Heath (Lily May Peel)', u'female', 35, 1, 0, u'113803', 53.1, u'C123', u'S')\n",
      "(9, 1, 3, u'Johnson, Mrs. Oscar W (Elisabeth Vilhelmina Berg)', u'female', 27, 0, 2, u'347742', 11.1333, u'', u'S')\n",
      "(10, 1, 2, u'Nasser, Mrs. Nicholas (Adele Achem)', u'female', 14, 1, 0, u'237736', 30.0708, u'', u'C')\n",
      "(11, 1, 3, u'Sandstrom, Miss. Marguerite Rut', u'female', 4, 1, 1, u'PP 9549', 16.7, u'G6', u'S')\n",
      "(12, 1, 1, u'Bonnell, Miss. Elizabeth', u'female', 58, 0, 0, u'113783', 26.55, u'C103', u'S')\n",
      "(16, 1, 2, u'Hewlett, Mrs. (Mary D Kingcome)', u'female', 55, 0, 0, u'248706', 16.0, u'', u'S')\n",
      "(18, 1, 2, u'Williams, Mr. Charles Eugene', u'male', u'', 0, 0, u'244373', 13.0, u'', u'S')\n",
      "(20, 1, 3, u'Masselmani, Mrs. Fatima', u'female', u'', 0, 0, u'2649', 7.225, u'', u'C')\n",
      "2. Query N passengers\n",
      "(1, 0, 3, u'Braund, Mr. Owen Harris', u'male', 22, 1, 0, u'A/5 21171', 7.25, u'', u'S')\n",
      "(2, 1, 1, u'Cumings, Mrs. John Bradley (Florence Briggs Thayer)', u'female', 38, 1, 0, u'PC 17599', 71.2833, u'C85', u'C')\n",
      "(3, 1, 3, u'Heikkinen, Miss. Laina', u'female', 26, 0, 0, u'STON/O2. 3101282', 7.925, u'', u'S')\n",
      "(4, 1, 1, u'Futrelle, Mrs. Jacques Heath (Lily May Peel)', u'female', 35, 1, 0, u'113803', 53.1, u'C123', u'S')\n",
      "(5, 0, 3, u'Allen, Mr. William Henry', u'male', 35, 0, 0, u'373450', 8.05, u'', u'S')\n",
      "(6, 0, 3, u'Moran, Mr. James', u'male', u'', 0, 0, u'330877', 8.4583, u'', u'Q')\n",
      "(7, 0, 1, u'McCarthy, Mr. Timothy J', u'male', 54, 0, 0, u'17463', 51.8625, u'E46', u'S')\n",
      "(8, 0, 3, u'Palsson, Master. Gosta Leonard', u'male', 2, 3, 1, u'349909', 21.075, u'', u'S')\n",
      "(9, 1, 3, u'Johnson, Mrs. Oscar W (Elisabeth Vilhelmina Berg)', u'female', 27, 0, 2, u'347742', 11.1333, u'', u'S')\n",
      "(10, 1, 2, u'Nasser, Mrs. Nicholas (Adele Achem)', u'female', 14, 1, 0, u'237736', 30.0708, u'', u'C')\n"
     ]
    }
   ],
   "source": [
    "def create_connection(db_file):\n",
    "    \"\"\" \n",
    "    Create a database connection to the SQLite database specified by the db_file\n",
    "    \n",
    "    :param db_file: database file\n",
    "    :return: the Connection object or None\n",
    "    \"\"\"\n",
    "    try:\n",
    "        conn = sqlite3.connect(db_file)\n",
    "        return conn\n",
    "    except Error as e:\n",
    "        print(e)\n",
    " \n",
    "    return None\n",
    "\n",
    "\n",
    "def select_N_passengers(conn,quantity):\n",
    "    \"\"\"\n",
    "    Query the first N rows in the table \"passengers\"\n",
    "    \n",
    "    :param conn: the Connection object\n",
    "    :param quantity: integer value representing the number of rows to be retrieved from the table\n",
    "    :return:\n",
    "    \"\"\"\n",
    "    cur = conn.cursor()\n",
    "    cur.execute(\"SELECT * FROM passengers LIMIT ?\",(quantity,))\n",
    " \n",
    "    rows = cur.fetchall()\n",
    " \n",
    "    for row in rows:\n",
    "        print(row)\n",
    " \n",
    " \n",
    "def select_N_passengers_by_survival(conn, survived,quantity):\n",
    "    \"\"\"\n",
    "    Query the first N wors in the table \"passengers\" by survival\n",
    "    \n",
    "    :param conn: the Connection object\n",
    "    :param survived: boolean value\n",
    "    :param quantity: integer value representing the number of rows to be retrieved from the table\n",
    "    :return:\n",
    "    \"\"\"\n",
    "    cur = conn.cursor()\n",
    "    cur.execute(\"SELECT * FROM passengers WHERE Survived=? LIMIT ?\", (survived,quantity,))\n",
    " \n",
    "    rows = cur.fetchall()\n",
    " \n",
    "    for row in rows:\n",
    "        print(row)\n",
    " \n",
    " \n",
    "def main():\n",
    "    # SUBSTITUTE THIS PATH BY THE CORRECT PATH ON YOUR LOCAL FILE SYSTEM\n",
    "    database = \"C://Users/Ecem/Desktop/BTS/BTS_MasterInBigData-master/Session_3/Session_3/test_database.db\"\n",
    " \n",
    "    # Create a database connection\n",
    "    conn = create_connection(database)\n",
    "    with conn:\n",
    "        print(\"1. Query N passengers by survival:\")\n",
    "        select_N_passengers_by_survival(conn,1,10)\n",
    " \n",
    "        print(\"2. Query N passengers\")\n",
    "        select_N_passengers(conn,10)\n",
    "    \n",
    "    # Close the connection with the database\n",
    "    conn.close()\n",
    " \n",
    " \n",
    "if __name__ == '__main__':\n",
    "    main()"
   ]
  },
  {
   "cell_type": "code",
   "execution_count": null,
   "metadata": {
    "collapsed": true
   },
   "outputs": [],
   "source": []
  }
 ],
 "metadata": {
  "kernelspec": {
   "display_name": "Python 2",
   "language": "python",
   "name": "python2"
  },
  "language_info": {
   "codemirror_mode": {
    "name": "ipython",
    "version": 2
   },
   "file_extension": ".py",
   "mimetype": "text/x-python",
   "name": "python",
   "nbconvert_exporter": "python",
   "pygments_lexer": "ipython2",
   "version": "2.7.13"
  }
 },
 "nbformat": 4,
 "nbformat_minor": 2
}
